{
  "nbformat": 4,
  "nbformat_minor": 0,
  "metadata": {
    "colab": {
      "name": "Linear regrassion2.ipynb",
      "provenance": [],
      "collapsed_sections": []
    },
    "kernelspec": {
      "name": "python3",
      "display_name": "Python 3"
    }
  },
  "cells": [
    {
      "cell_type": "code",
      "metadata": {
        "colab": {
          "base_uri": "https://localhost:8080/",
          "height": 402
        },
        "id": "myt6pE6ustr9",
        "outputId": "252b2da9-becc-434e-e1e4-47a2fe8b9461"
      },
      "source": [
        "import pandas as pd\r\n",
        "import matplotlib.pyplot as plt\r\n",
        "dataf=pd.read_csv(\"/content/Dataset-28-1-Linear Regression-father_son.csv\")\r\n",
        "dataf"
      ],
      "execution_count": null,
      "outputs": [
        {
          "output_type": "execute_result",
          "data": {
            "text/html": [
              "<div>\n",
              "<style scoped>\n",
              "    .dataframe tbody tr th:only-of-type {\n",
              "        vertical-align: middle;\n",
              "    }\n",
              "\n",
              "    .dataframe tbody tr th {\n",
              "        vertical-align: top;\n",
              "    }\n",
              "\n",
              "    .dataframe thead th {\n",
              "        text-align: right;\n",
              "    }\n",
              "</style>\n",
              "<table border=\"1\" class=\"dataframe\">\n",
              "  <thead>\n",
              "    <tr style=\"text-align: right;\">\n",
              "      <th></th>\n",
              "      <th>Father</th>\n",
              "      <th>Son</th>\n",
              "    </tr>\n",
              "  </thead>\n",
              "  <tbody>\n",
              "    <tr>\n",
              "      <th>0</th>\n",
              "      <td>65.0</td>\n",
              "      <td>59.8</td>\n",
              "    </tr>\n",
              "    <tr>\n",
              "      <th>1</th>\n",
              "      <td>63.3</td>\n",
              "      <td>63.2</td>\n",
              "    </tr>\n",
              "    <tr>\n",
              "      <th>2</th>\n",
              "      <td>65.0</td>\n",
              "      <td>63.3</td>\n",
              "    </tr>\n",
              "    <tr>\n",
              "      <th>3</th>\n",
              "      <td>65.8</td>\n",
              "      <td>62.8</td>\n",
              "    </tr>\n",
              "    <tr>\n",
              "      <th>4</th>\n",
              "      <td>61.1</td>\n",
              "      <td>64.3</td>\n",
              "    </tr>\n",
              "    <tr>\n",
              "      <th>...</th>\n",
              "      <td>...</td>\n",
              "      <td>...</td>\n",
              "    </tr>\n",
              "    <tr>\n",
              "      <th>1073</th>\n",
              "      <td>67.0</td>\n",
              "      <td>70.8</td>\n",
              "    </tr>\n",
              "    <tr>\n",
              "      <th>1074</th>\n",
              "      <td>71.3</td>\n",
              "      <td>68.3</td>\n",
              "    </tr>\n",
              "    <tr>\n",
              "      <th>1075</th>\n",
              "      <td>71.8</td>\n",
              "      <td>69.3</td>\n",
              "    </tr>\n",
              "    <tr>\n",
              "      <th>1076</th>\n",
              "      <td>70.7</td>\n",
              "      <td>69.3</td>\n",
              "    </tr>\n",
              "    <tr>\n",
              "      <th>1077</th>\n",
              "      <td>70.3</td>\n",
              "      <td>67.0</td>\n",
              "    </tr>\n",
              "  </tbody>\n",
              "</table>\n",
              "<p>1078 rows × 2 columns</p>\n",
              "</div>"
            ],
            "text/plain": [
              "      Father   Son\n",
              "0       65.0  59.8\n",
              "1       63.3  63.2\n",
              "2       65.0  63.3\n",
              "3       65.8  62.8\n",
              "4       61.1  64.3\n",
              "...      ...   ...\n",
              "1073    67.0  70.8\n",
              "1074    71.3  68.3\n",
              "1075    71.8  69.3\n",
              "1076    70.7  69.3\n",
              "1077    70.3  67.0\n",
              "\n",
              "[1078 rows x 2 columns]"
            ]
          },
          "metadata": {
            "tags": []
          },
          "execution_count": 3
        }
      ]
    },
    {
      "cell_type": "code",
      "metadata": {
        "id": "tfisneZwuVMw"
      },
      "source": [
        "from sklearn.model_selection import train_test_split\r\n",
        "x=dataf.drop('Son',axis=1)\r\n",
        "y=dataf['Son']\r\n",
        "\r\n",
        "x_train,x_test,y_train,y_test=train_test_split(x,y,random_state=156,test_size=0.2)"
      ],
      "execution_count": null,
      "outputs": []
    },
    {
      "cell_type": "code",
      "metadata": {
        "id": "pT6Lw-TAvYzR"
      },
      "source": [
        "from sklearn.linear_model import LinearRegression\r\n",
        "my_model=LinearRegression()\r\n",
        "result=my_model.fit(x_train,y_train)"
      ],
      "execution_count": null,
      "outputs": []
    },
    {
      "cell_type": "code",
      "metadata": {
        "colab": {
          "base_uri": "https://localhost:8080/"
        },
        "id": "99kR0rlyvtBg",
        "outputId": "d2807ab8-a768-41a7-d447-4fa1d3f1445e"
      },
      "source": [
        "prediction=result.predict(x_test)\r\n",
        "prediction"
      ],
      "execution_count": null,
      "outputs": [
        {
          "output_type": "execute_result",
          "data": {
            "text/plain": [
              "array([68.84850188, 71.25514733, 66.96504022, 67.22663212, 71.46442085,\n",
              "       68.42995484, 67.85445267, 69.79023271, 68.11604457, 68.95313864,\n",
              "       71.04587381, 68.90082026, 68.95313864, 69.58095919, 70.5750084 ,\n",
              "       70.78428192, 67.12199536, 67.59286077, 70.15646136, 67.38358726,\n",
              "       72.19687816, 69.89486947, 69.58095919, 66.33721967, 67.06967698,\n",
              "       70.15646136, 67.22663212, 68.01140781, 69.63327757, 70.15646136,\n",
              "       66.70344832, 68.01140781, 68.22068133, 68.84850188, 68.5345916 ,\n",
              "       70.26109812, 67.69749753, 71.15051057, 67.12199536, 68.42995484,\n",
              "       69.47632243, 67.22663212, 69.99950623, 69.42400405, 69.00545702,\n",
              "       68.7961835 , 71.20282895, 69.89486947, 67.54054239, 65.60476236,\n",
              "       70.3134165 , 67.12199536, 67.22663212, 68.95313864, 70.52269002,\n",
              "       70.15646136, 70.20877974, 67.17431374, 69.16241216, 68.37763646,\n",
              "       68.37763646, 67.69749753, 68.90082026, 67.90677105, 68.84850188,\n",
              "       70.8366003 , 69.84255109, 67.74981591, 70.88891868, 68.11604457,\n",
              "       67.74981591, 68.63922836, 66.91272184, 70.41805326, 69.58095919,\n",
              "       69.84255109, 67.2789505 , 66.80808508, 66.65112994, 67.2789505 ,\n",
              "       67.59286077, 67.90677105, 71.51673923, 68.69154674, 68.48227322,\n",
              "       70.15646136, 66.70344832, 68.42995484, 68.7961835 , 68.5345916 ,\n",
              "       68.58690998, 67.06967698, 67.64517915, 67.80213429, 67.0173586 ,\n",
              "       66.7557667 , 71.35978409, 68.01140781, 68.01140781, 69.79023271,\n",
              "       70.62732678, 69.37168567, 64.45375801, 70.36573488, 67.38358726,\n",
              "       69.84255109, 69.52864081, 69.42400405, 66.70344832, 67.69749753,\n",
              "       68.84850188, 66.59881157, 69.73791433, 69.68559595, 66.65112994,\n",
              "       70.94123705, 67.85445267, 70.10414298, 67.33126888, 67.85445267,\n",
              "       68.42995484, 66.91272184, 66.18026453, 68.7961835 , 70.8366003 ,\n",
              "       68.22068133, 69.31936729, 70.05182461, 69.0577754 , 68.90082026,\n",
              "       67.54054239, 67.06967698, 68.27299971, 67.59286077, 70.3134165 ,\n",
              "       68.06372619, 67.64517915, 64.40143963, 69.21473054, 71.15051057,\n",
              "       68.74386512, 70.67964516, 69.89486947, 69.42400405, 68.22068133,\n",
              "       69.26704891, 68.84850188, 67.0173586 , 69.89486947, 70.8366003 ,\n",
              "       69.26704891, 70.67964516, 71.35978409, 69.37168567, 67.95908943,\n",
              "       71.25514733, 68.48227322, 68.32531809, 68.06372619, 69.42400405,\n",
              "       68.69154674, 68.7961835 , 70.8366003 , 69.00545702, 67.48822402,\n",
              "       68.5345916 , 69.11009378, 67.22663212, 66.18026453, 70.62732678,\n",
              "       69.52864081, 69.21473054, 66.18026453, 68.74386512, 68.90082026,\n",
              "       67.38358726, 70.3134165 , 67.38358726, 69.21473054, 65.18621532,\n",
              "       66.80808508, 64.66303153, 68.06372619, 69.00545702, 69.11009378,\n",
              "       69.11009378, 68.7961835 , 68.42995484, 68.63922836, 66.28490129,\n",
              "       69.99950623, 67.90677105, 70.99355543, 69.52864081, 65.91867263,\n",
              "       70.10414298, 70.62732678, 68.37763646, 70.94123705, 70.62732678,\n",
              "       68.7961835 , 69.63327757, 69.52864081, 68.06372619, 69.42400405,\n",
              "       69.94718785, 68.74386512, 68.74386512, 68.63922836, 66.33721967,\n",
              "       69.00545702, 68.58690998, 66.70344832, 67.17431374, 67.17431374,\n",
              "       66.96504022])"
            ]
          },
          "metadata": {
            "tags": []
          },
          "execution_count": 26
        }
      ]
    },
    {
      "cell_type": "code",
      "metadata": {
        "colab": {
          "base_uri": "https://localhost:8080/",
          "height": 296
        },
        "id": "-fwxjsdQv4zp",
        "outputId": "5048f369-bb76-454e-a6a0-01ca69ee75f3"
      },
      "source": [
        "plt.scatter(x_train,y_train,color='g')\r\n",
        "plt.plot(x_test,prediction,color='b')\r\n",
        "plt.xlabel(\"fathers height\")\r\n",
        "plt.ylabel(\"Son's height\")"
      ],
      "execution_count": null,
      "outputs": [
        {
          "output_type": "execute_result",
          "data": {
            "text/plain": [
              "Text(0, 0.5, \"Son's height\")"
            ]
          },
          "metadata": {
            "tags": []
          },
          "execution_count": 27
        },
        {
          "output_type": "display_data",
          "data": {
            "image/png": "[encoded data removed]",
            "text/plain": [
              "<Figure size 432x288 with 1 Axes>"
            ]
          },
          "metadata": {
            "tags": [],
            "needs_background": "light"
          }
        }
      ]
    },
    {
      "cell_type": "code",
      "metadata": {
        "colab": {
          "base_uri": "https://localhost:8080/"
        },
        "id": "JV1yY3DmwPdw",
        "outputId": "1e54a36b-be39-417c-8834-4e376ad85732"
      },
      "source": [
        "from sklearn.metrics import r2_score\r\n",
        "r2_score(y_test,prediction)"
      ],
      "execution_count": null,
      "outputs": [
        {
          "output_type": "execute_result",
          "data": {
            "text/plain": [
              "0.22025506839147502"
            ]
          },
          "metadata": {
            "tags": []
          },
          "execution_count": 18
        }
      ]
    },
    {
      "cell_type": "code",
      "metadata": {
        "colab": {
          "base_uri": "https://localhost:8080/"
        },
        "id": "pZd39obewjgo",
        "outputId": "6f24dfaf-f610-47ab-e36b-8ed96be60fc1"
      },
      "source": [
        "pred1=result.predict([[63]])\r\n",
        "pred1"
      ],
      "execution_count": null,
      "outputs": [
        {
          "output_type": "execute_result",
          "data": {
            "text/plain": [
              "array([66.23258291])"
            ]
          },
          "metadata": {
            "tags": []
          },
          "execution_count": 21
        }
      ]
    },
    {
      "cell_type": "code",
      "metadata": {
        "colab": {
          "base_uri": "https://localhost:8080/"
        },
        "id": "-UzriVwtxC74",
        "outputId": "deaddb04-2ec6-4c13-ac73-27e08ad21860"
      },
      "source": [
        "pred2=result.predict([[55]])\r\n",
        "pred2"
      ],
      "execution_count": null,
      "outputs": [
        {
          "output_type": "execute_result",
          "data": {
            "text/plain": [
              "array([62.04711256])"
            ]
          },
          "metadata": {
            "tags": []
          },
          "execution_count": 22
        }
      ]
    },
    {
      "cell_type": "code",
      "metadata": {
        "colab": {
          "base_uri": "https://localhost:8080/"
        },
        "id": "eaCzP-hVxU25",
        "outputId": "253157c9-9204-4b50-84e0-a3d8c767778a"
      },
      "source": [
        "pred3=result.predict([[71.3]])\r\n",
        "pred3"
      ],
      "execution_count": null,
      "outputs": [
        {
          "output_type": "execute_result",
          "data": {
            "text/plain": [
              "array([70.5750084])"
            ]
          },
          "metadata": {
            "tags": []
          },
          "execution_count": 23
        }
      ]
    },
    {
      "cell_type": "code",
      "metadata": {
        "colab": {
          "base_uri": "https://localhost:8080/"
        },
        "id": "D1pG5XVoy0Jp",
        "outputId": "c45be6d0-d174-43cc-9567-4858ea51d3a1"
      },
      "source": [
        "pred4=result.predict([[75]])\r\n",
        "pred4"
      ],
      "execution_count": null,
      "outputs": [
        {
          "output_type": "execute_result",
          "data": {
            "text/plain": [
              "array([72.51078844])"
            ]
          },
          "metadata": {
            "tags": []
          },
          "execution_count": 28
        }
      ]
    }
  ]
}